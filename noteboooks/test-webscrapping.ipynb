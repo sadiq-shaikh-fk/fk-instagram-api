{
 "cells": [
  {
   "cell_type": "markdown",
   "metadata": {},
   "source": [
    "# **Method 2 – Bypassing \"User-Agent Mismatch\" for Instagram Web API**"
   ]
  },
  {
   "cell_type": "code",
   "execution_count": 2,
   "metadata": {},
   "outputs": [
    {
     "name": "stdout",
     "output_type": "stream",
     "text": [
      "{'message': 'Please wait a few minutes before you try again.', 'require_login': True, 'igweb_rollout': True, 'status': 'fail'}\n"
     ]
    }
   ],
   "source": [
    "import requests\n",
    "\n",
    "username = \"therock\"\n",
    "url = f\"https://i.instagram.com/api/v1/users/web_profile_info/?username={username}\"\n",
    "\n",
    "headers = {\n",
    "    \"User-Agent\": \"Instagram 123.0.0.26.121 Android (28/9; 320dpi; 720x1280; Xiaomi; Redmi Note 7; lavender; qcom; en_US; 180603588)\",\n",
    "    \"Accept\": \"*/*\",\n",
    "    \"Cookie\": \"sessionid=YOUR_SESSION_ID\"  # Only needed if Instagram blocks unauthenticated requests\n",
    "}\n",
    "\n",
    "response = requests.get(url, headers=headers)\n",
    "\n",
    "print(response.json())"
   ]
  },
  {
   "cell_type": "code",
   "execution_count": null,
   "metadata": {},
   "outputs": [],
   "source": []
  },
  {
   "cell_type": "markdown",
   "metadata": {},
   "source": [
    "# **Method 3 - Scraping Instagram Profile Page by finidng profilePage_**"
   ]
  },
  {
   "cell_type": "code",
   "execution_count": 3,
   "metadata": {},
   "outputs": [
    {
     "name": "stdout",
     "output_type": "stream",
     "text": [
      "Instagram User ID for therock: User ID not found\n"
     ]
    }
   ],
   "source": [
    "import requests\n",
    "import re\n",
    "\n",
    "def get_instagram_user_id(username):\n",
    "    url = f\"https://www.instagram.com/{username}/\"\n",
    "    headers = {\n",
    "        \"User-Agent\": \"Mozilla/5.0 (Windows NT 10.0; Win64; x64) AppleWebKit/537.36 (KHTML, like Gecko) Chrome/96.0.4664.110 Safari/537.36\"\n",
    "    }\n",
    "    \n",
    "    response = requests.get(url, headers=headers)\n",
    "    \n",
    "    if response.status_code == 200:\n",
    "        match = re.search(r'\"profilePage_(\\d+)\"', response.text)\n",
    "        if match:\n",
    "            return match.group(1)\n",
    "        else:\n",
    "            return \"User ID not found\"\n",
    "    else:\n",
    "        return f\"Failed to fetch page, Status Code: {response.status_code}\"\n",
    "\n",
    "# Example Usage\n",
    "username = \"therock\"\n",
    "user_id = get_instagram_user_id(username)\n",
    "print(f\"Instagram User ID for {username}: {user_id}\")\n"
   ]
  },
  {
   "cell_type": "code",
   "execution_count": null,
   "metadata": {},
   "outputs": [],
   "source": []
  },
  {
   "cell_type": "markdown",
   "metadata": {},
   "source": [
    "# **Method 5 – Browser Automation (Selenium)**"
   ]
  },
  {
   "cell_type": "code",
   "execution_count": 5,
   "metadata": {},
   "outputs": [
    {
     "name": "stdout",
     "output_type": "stream",
     "text": [
      "232192182\n"
     ]
    }
   ],
   "source": [
    "from selenium import webdriver\n",
    "from selenium.webdriver.common.by import By\n",
    "\n",
    "def get_instagram_user_id(username):\n",
    "    driver = webdriver.Chrome()  # Install ChromeDriver if needed\n",
    "    driver.get(f\"https://www.instagram.com/{username}/\")\n",
    "\n",
    "    page_source = driver.page_source\n",
    "    driver.quit()\n",
    "\n",
    "    match = re.search(r'\"profilePage_(\\d+)\"', page_source)\n",
    "    if match:\n",
    "        return match.group(1)\n",
    "    return \"User ID not found\"\n",
    "\n",
    "username = \"therock\"\n",
    "print(get_instagram_user_id(username))\n"
   ]
  },
  {
   "cell_type": "code",
   "execution_count": null,
   "metadata": {},
   "outputs": [],
   "source": [
    "import instaloader\n",
    "\n",
    "user = \"therock\"\n",
    "loader = instaloader.Instaloader()\n",
    "profile = instaloader.Profile.from_username(loader.context,user)\n",
    "print(profile.biography) \n",
    "print(profile.mediacount)\n",
    "print(profile.followers)"
   ]
  },
  {
   "cell_type": "code",
   "execution_count": null,
   "metadata": {},
   "outputs": [],
   "source": []
  }
 ],
 "metadata": {
  "kernelspec": {
   "display_name": "Python 3",
   "language": "python",
   "name": "python3"
  },
  "language_info": {
   "codemirror_mode": {
    "name": "ipython",
    "version": 3
   },
   "file_extension": ".py",
   "mimetype": "text/x-python",
   "name": "python",
   "nbconvert_exporter": "python",
   "pygments_lexer": "ipython3",
   "version": "3.12.5"
  }
 },
 "nbformat": 4,
 "nbformat_minor": 2
}
